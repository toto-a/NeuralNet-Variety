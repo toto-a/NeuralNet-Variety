{
 "cells": [
  {
   "cell_type": "code",
   "execution_count": 2,
   "metadata": {},
   "outputs": [
    {
     "name": "stderr",
     "output_type": "stream",
     "text": [
      "c:\\Users\\Antoine\\AppData\\Local\\Programs\\Python\\Python39\\lib\\site-packages\\tqdm\\auto.py:22: TqdmWarning: IProgress not found. Please update jupyter and ipywidgets. See https://ipywidgets.readthedocs.io/en/stable/user_install.html\n",
      "  from .autonotebook import tqdm as notebook_tqdm\n"
     ]
    }
   ],
   "source": [
    "import transformers"
   ]
  },
  {
   "cell_type": "code",
   "execution_count": 77,
   "metadata": {},
   "outputs": [
    {
     "name": "stderr",
     "output_type": "stream",
     "text": [
      "[nltk_data] Downloading package stopwords to\n",
      "[nltk_data]     C:\\Users\\Antoine\\AppData\\Roaming\\nltk_data...\n",
      "[nltk_data]   Package stopwords is already up-to-date!\n"
     ]
    }
   ],
   "source": [
    "from transformers import AutoTokenizer\n",
    "from transformers import DistilBertForSequenceClassification\n",
    "from transformers import TextClassificationPipeline\n",
    "\n",
    "import torch\n",
    "import torch.nn as nn \n",
    "import torch.nn.functional as F\n",
    "from datasets import load_dataset\n",
    "import pandas as pd\n",
    "import json\n",
    "import gc\n",
    "\n",
    "\n",
    "import re\n",
    "import nltk\n",
    "import numpy as np\n",
    "from nltk.corpus import stopwords\n",
    "nltk.download('stopwords')\n",
    "stopw = stopwords.words('english')\n",
    "\n",
    "import seaborn as sns\n",
    "import matplotlib.pyplot as plt\n",
    "from plotly.offline import iplot\n",
    "\n",
    "from tqdm import tqdm"
   ]
  },
  {
   "cell_type": "code",
   "execution_count": 108,
   "metadata": {},
   "outputs": [
    {
     "name": "stderr",
     "output_type": "stream",
     "text": [
      "Downloading readme: 100%|██████████| 14.4k/14.4k [00:00<00:00, 7.15MB/s]\n",
      "Downloading data: 100%|██████████| 298k/298k [00:01<00:00, 297kB/s]\n",
      "Downloading data: 100%|██████████| 93.9k/93.9k [00:00<00:00, 118kB/s]\n",
      "Generating train split: 100%|██████████| 10003/10003 [00:00<00:00, 40348.54 examples/s]\n",
      "Generating test split: 100%|██████████| 3080/3080 [00:00<00:00, 50250.33 examples/s]\n"
     ]
    }
   ],
   "source": [
    "dataset=load_dataset(\"banking77\")"
   ]
  },
  {
   "cell_type": "code",
   "execution_count": 110,
   "metadata": {},
   "outputs": [
    {
     "name": "stderr",
     "output_type": "stream",
     "text": [
      "loading configuration file config.json from cache at C:\\Users\\Antoine/.cache\\huggingface\\hub\\models--distilbert-base-uncased\\snapshots\\6cdc0aad91f5ae2e6712e91bc7b65d1cf5c05411\\config.json\n",
      "Model config DistilBertConfig {\n",
      "  \"_name_or_path\": \"distilbert-base-uncased\",\n",
      "  \"activation\": \"gelu\",\n",
      "  \"architectures\": [\n",
      "    \"DistilBertForMaskedLM\"\n",
      "  ],\n",
      "  \"attention_dropout\": 0.1,\n",
      "  \"dim\": 768,\n",
      "  \"dropout\": 0.1,\n",
      "  \"hidden_dim\": 3072,\n",
      "  \"initializer_range\": 0.02,\n",
      "  \"max_position_embeddings\": 512,\n",
      "  \"model_type\": \"distilbert\",\n",
      "  \"n_heads\": 12,\n",
      "  \"n_layers\": 6,\n",
      "  \"pad_token_id\": 0,\n",
      "  \"qa_dropout\": 0.1,\n",
      "  \"seq_classif_dropout\": 0.2,\n",
      "  \"sinusoidal_pos_embds\": false,\n",
      "  \"tie_weights_\": true,\n",
      "  \"transformers_version\": \"4.22.1\",\n",
      "  \"vocab_size\": 30522\n",
      "}\n",
      "\n",
      "loading file vocab.txt from cache at C:\\Users\\Antoine/.cache\\huggingface\\hub\\models--distilbert-base-uncased\\snapshots\\6cdc0aad91f5ae2e6712e91bc7b65d1cf5c05411\\vocab.txt\n",
      "loading file tokenizer.json from cache at C:\\Users\\Antoine/.cache\\huggingface\\hub\\models--distilbert-base-uncased\\snapshots\\6cdc0aad91f5ae2e6712e91bc7b65d1cf5c05411\\tokenizer.json\n",
      "loading file added_tokens.json from cache at None\n",
      "loading file special_tokens_map.json from cache at None\n",
      "loading file tokenizer_config.json from cache at C:\\Users\\Antoine/.cache\\huggingface\\hub\\models--distilbert-base-uncased\\snapshots\\6cdc0aad91f5ae2e6712e91bc7b65d1cf5c05411\\tokenizer_config.json\n",
      "loading configuration file config.json from cache at C:\\Users\\Antoine/.cache\\huggingface\\hub\\models--distilbert-base-uncased\\snapshots\\6cdc0aad91f5ae2e6712e91bc7b65d1cf5c05411\\config.json\n",
      "Model config DistilBertConfig {\n",
      "  \"_name_or_path\": \"distilbert-base-uncased\",\n",
      "  \"activation\": \"gelu\",\n",
      "  \"architectures\": [\n",
      "    \"DistilBertForMaskedLM\"\n",
      "  ],\n",
      "  \"attention_dropout\": 0.1,\n",
      "  \"dim\": 768,\n",
      "  \"dropout\": 0.1,\n",
      "  \"hidden_dim\": 3072,\n",
      "  \"initializer_range\": 0.02,\n",
      "  \"max_position_embeddings\": 512,\n",
      "  \"model_type\": \"distilbert\",\n",
      "  \"n_heads\": 12,\n",
      "  \"n_layers\": 6,\n",
      "  \"pad_token_id\": 0,\n",
      "  \"qa_dropout\": 0.1,\n",
      "  \"seq_classif_dropout\": 0.2,\n",
      "  \"sinusoidal_pos_embds\": false,\n",
      "  \"tie_weights_\": true,\n",
      "  \"transformers_version\": \"4.22.1\",\n",
      "  \"vocab_size\": 30522\n",
      "}\n",
      "\n",
      "Map: 100%|██████████| 10003/10003 [00:02<00:00, 4275.26 examples/s]\n",
      "Map: 100%|██████████| 3080/3080 [00:00<00:00, 3830.84 examples/s]\n"
     ]
    }
   ],
   "source": [
    "def tokenize(batch):\n",
    "    return tokenizer(batch['text'], padding='max_length', truncation=True, return_tensors=\"pt\")\n",
    "\n",
    "tokenizer = AutoTokenizer.from_pretrained('distilbert-base-uncased')\n",
    "\n",
    "tokenizer_dataset=dataset.map(tokenize,batched=True,remove_columns=['text'])\n",
    "tokenizer_dataset=tokenizer_dataset.rename_column(\"label\",\"labels\")\n",
    "\n"
   ]
  },
  {
   "cell_type": "code",
   "execution_count": 111,
   "metadata": {},
   "outputs": [
    {
     "data": {
      "text/plain": [
       "DatasetDict({\n",
       "    train: Dataset({\n",
       "        features: ['labels', 'input_ids', 'attention_mask'],\n",
       "        num_rows: 10003\n",
       "    })\n",
       "    test: Dataset({\n",
       "        features: ['labels', 'input_ids', 'attention_mask'],\n",
       "        num_rows: 3080\n",
       "    })\n",
       "})"
      ]
     },
     "execution_count": 111,
     "metadata": {},
     "output_type": "execute_result"
    }
   ],
   "source": [
    "tokenizer_dataset"
   ]
  },
  {
   "cell_type": "code",
   "execution_count": 113,
   "metadata": {},
   "outputs": [
    {
     "data": {
      "text/plain": [
       "ClassLabel(names=['activate_my_card', 'age_limit', 'apple_pay_or_google_pay', 'atm_support', 'automatic_top_up', 'balance_not_updated_after_bank_transfer', 'balance_not_updated_after_cheque_or_cash_deposit', 'beneficiary_not_allowed', 'cancel_transfer', 'card_about_to_expire', 'card_acceptance', 'card_arrival', 'card_delivery_estimate', 'card_linking', 'card_not_working', 'card_payment_fee_charged', 'card_payment_not_recognised', 'card_payment_wrong_exchange_rate', 'card_swallowed', 'cash_withdrawal_charge', 'cash_withdrawal_not_recognised', 'change_pin', 'compromised_card', 'contactless_not_working', 'country_support', 'declined_card_payment', 'declined_cash_withdrawal', 'declined_transfer', 'direct_debit_payment_not_recognised', 'disposable_card_limits', 'edit_personal_details', 'exchange_charge', 'exchange_rate', 'exchange_via_app', 'extra_charge_on_statement', 'failed_transfer', 'fiat_currency_support', 'get_disposable_virtual_card', 'get_physical_card', 'getting_spare_card', 'getting_virtual_card', 'lost_or_stolen_card', 'lost_or_stolen_phone', 'order_physical_card', 'passcode_forgotten', 'pending_card_payment', 'pending_cash_withdrawal', 'pending_top_up', 'pending_transfer', 'pin_blocked', 'receiving_money', 'Refund_not_showing_up', 'request_refund', 'reverted_card_payment?', 'supported_cards_and_currencies', 'terminate_account', 'top_up_by_bank_transfer_charge', 'top_up_by_card_charge', 'top_up_by_cash_or_cheque', 'top_up_failed', 'top_up_limits', 'top_up_reverted', 'topping_up_by_card', 'transaction_charged_twice', 'transfer_fee_charged', 'transfer_into_account', 'transfer_not_received_by_recipient', 'transfer_timing', 'unable_to_verify_identity', 'verify_my_identity', 'verify_source_of_funds', 'verify_top_up', 'virtual_card_not_working', 'visa_or_mastercard', 'why_verify_identity', 'wrong_amount_of_cash_received', 'wrong_exchange_rate_for_cash_withdrawal'], id=None)"
      ]
     },
     "execution_count": 113,
     "metadata": {},
     "output_type": "execute_result"
    }
   ],
   "source": [
    "tokenizer_dataset[\"train\"].features[\"labels\"]\n"
   ]
  },
  {
   "cell_type": "code",
   "execution_count": 115,
   "metadata": {},
   "outputs": [
    {
     "name": "stderr",
     "output_type": "stream",
     "text": [
      "loading configuration file config.json from cache at C:\\Users\\Antoine/.cache\\huggingface\\hub\\models--distilbert-base-uncased\\snapshots\\6cdc0aad91f5ae2e6712e91bc7b65d1cf5c05411\\config.json\n",
      "Model config DistilBertConfig {\n",
      "  \"_name_or_path\": \"distilbert-base-uncased\",\n",
      "  \"activation\": \"gelu\",\n",
      "  \"architectures\": [\n",
      "    \"DistilBertForMaskedLM\"\n",
      "  ],\n",
      "  \"attention_dropout\": 0.1,\n",
      "  \"dim\": 768,\n",
      "  \"dropout\": 0.1,\n",
      "  \"hidden_dim\": 3072,\n",
      "  \"id2label\": {\n",
      "    \"0\": \"activate_my_card\",\n",
      "    \"1\": \"age_limit\",\n",
      "    \"10\": \"card_acceptance\",\n",
      "    \"11\": \"card_arrival\",\n",
      "    \"12\": \"card_delivery_estimate\",\n",
      "    \"13\": \"card_linking\",\n",
      "    \"14\": \"card_not_working\",\n",
      "    \"15\": \"card_payment_fee_charged\",\n",
      "    \"16\": \"card_payment_not_recognised\",\n",
      "    \"17\": \"card_payment_wrong_exchange_rate\",\n",
      "    \"18\": \"card_swallowed\",\n",
      "    \"19\": \"cash_withdrawal_charge\",\n",
      "    \"2\": \"apple_pay_or_google_pay\",\n",
      "    \"20\": \"cash_withdrawal_not_recognised\",\n",
      "    \"21\": \"change_pin\",\n",
      "    \"22\": \"compromised_card\",\n",
      "    \"23\": \"contactless_not_working\",\n",
      "    \"24\": \"country_support\",\n",
      "    \"25\": \"declined_card_payment\",\n",
      "    \"26\": \"declined_cash_withdrawal\",\n",
      "    \"27\": \"declined_transfer\",\n",
      "    \"28\": \"direct_debit_payment_not_recognised\",\n",
      "    \"29\": \"disposable_card_limits\",\n",
      "    \"3\": \"atm_support\",\n",
      "    \"30\": \"edit_personal_details\",\n",
      "    \"31\": \"exchange_charge\",\n",
      "    \"32\": \"exchange_rate\",\n",
      "    \"33\": \"exchange_via_app\",\n",
      "    \"34\": \"extra_charge_on_statement\",\n",
      "    \"35\": \"failed_transfer\",\n",
      "    \"36\": \"fiat_currency_support\",\n",
      "    \"37\": \"get_disposable_virtual_card\",\n",
      "    \"38\": \"get_physical_card\",\n",
      "    \"39\": \"getting_spare_card\",\n",
      "    \"4\": \"automatic_top_up\",\n",
      "    \"40\": \"getting_virtual_card\",\n",
      "    \"41\": \"lost_or_stolen_card\",\n",
      "    \"42\": \"lost_or_stolen_phone\",\n",
      "    \"43\": \"order_physical_card\",\n",
      "    \"44\": \"passcode_forgotten\",\n",
      "    \"45\": \"pending_card_payment\",\n",
      "    \"46\": \"pending_cash_withdrawal\",\n",
      "    \"47\": \"pending_top_up\",\n",
      "    \"48\": \"pending_transfer\",\n",
      "    \"49\": \"pin_blocked\",\n",
      "    \"5\": \"balance_not_updated_after_bank_transfer\",\n",
      "    \"50\": \"receiving_money\",\n",
      "    \"51\": \"Refund_not_showing_up\",\n",
      "    \"52\": \"request_refund\",\n",
      "    \"53\": \"reverted_card_payment?\",\n",
      "    \"54\": \"supported_cards_and_currencies\",\n",
      "    \"55\": \"terminate_account\",\n",
      "    \"56\": \"top_up_by_bank_transfer_charge\",\n",
      "    \"57\": \"top_up_by_card_charge\",\n",
      "    \"58\": \"top_up_by_cash_or_cheque\",\n",
      "    \"59\": \"top_up_failed\",\n",
      "    \"6\": \"balance_not_updated_after_cheque_or_cash_deposit\",\n",
      "    \"60\": \"top_up_limits\",\n",
      "    \"61\": \"top_up_reverted\",\n",
      "    \"62\": \"topping_up_by_card\",\n",
      "    \"63\": \"transaction_charged_twice\",\n",
      "    \"64\": \"transfer_fee_charged\",\n",
      "    \"65\": \"transfer_into_account\",\n",
      "    \"66\": \"transfer_not_received_by_recipient\",\n",
      "    \"67\": \"transfer_timing\",\n",
      "    \"68\": \"unable_to_verify_identity\",\n",
      "    \"69\": \"verify_my_identity\",\n",
      "    \"7\": \"beneficiary_not_allowed\",\n",
      "    \"70\": \"verify_source_of_funds\",\n",
      "    \"71\": \"verify_top_up\",\n",
      "    \"72\": \"virtual_card_not_working\",\n",
      "    \"73\": \"visa_or_mastercard\",\n",
      "    \"74\": \"why_verify_identity\",\n",
      "    \"75\": \"wrong_amount_of_cash_received\",\n",
      "    \"76\": \"wrong_exchange_rate_for_cash_withdrawal\",\n",
      "    \"8\": \"cancel_transfer\",\n",
      "    \"9\": \"card_about_to_expire\"\n",
      "  },\n",
      "  \"initializer_range\": 0.02,\n",
      "  \"label2id\": {\n",
      "    \"Refund_not_showing_up\": \"51\",\n",
      "    \"activate_my_card\": \"0\",\n",
      "    \"age_limit\": \"1\",\n",
      "    \"apple_pay_or_google_pay\": \"2\",\n",
      "    \"atm_support\": \"3\",\n",
      "    \"automatic_top_up\": \"4\",\n",
      "    \"balance_not_updated_after_bank_transfer\": \"5\",\n",
      "    \"balance_not_updated_after_cheque_or_cash_deposit\": \"6\",\n",
      "    \"beneficiary_not_allowed\": \"7\",\n",
      "    \"cancel_transfer\": \"8\",\n",
      "    \"card_about_to_expire\": \"9\",\n",
      "    \"card_acceptance\": \"10\",\n",
      "    \"card_arrival\": \"11\",\n",
      "    \"card_delivery_estimate\": \"12\",\n",
      "    \"card_linking\": \"13\",\n",
      "    \"card_not_working\": \"14\",\n",
      "    \"card_payment_fee_charged\": \"15\",\n",
      "    \"card_payment_not_recognised\": \"16\",\n",
      "    \"card_payment_wrong_exchange_rate\": \"17\",\n",
      "    \"card_swallowed\": \"18\",\n",
      "    \"cash_withdrawal_charge\": \"19\",\n",
      "    \"cash_withdrawal_not_recognised\": \"20\",\n",
      "    \"change_pin\": \"21\",\n",
      "    \"compromised_card\": \"22\",\n",
      "    \"contactless_not_working\": \"23\",\n",
      "    \"country_support\": \"24\",\n",
      "    \"declined_card_payment\": \"25\",\n",
      "    \"declined_cash_withdrawal\": \"26\",\n",
      "    \"declined_transfer\": \"27\",\n",
      "    \"direct_debit_payment_not_recognised\": \"28\",\n",
      "    \"disposable_card_limits\": \"29\",\n",
      "    \"edit_personal_details\": \"30\",\n",
      "    \"exchange_charge\": \"31\",\n",
      "    \"exchange_rate\": \"32\",\n",
      "    \"exchange_via_app\": \"33\",\n",
      "    \"extra_charge_on_statement\": \"34\",\n",
      "    \"failed_transfer\": \"35\",\n",
      "    \"fiat_currency_support\": \"36\",\n",
      "    \"get_disposable_virtual_card\": \"37\",\n",
      "    \"get_physical_card\": \"38\",\n",
      "    \"getting_spare_card\": \"39\",\n",
      "    \"getting_virtual_card\": \"40\",\n",
      "    \"lost_or_stolen_card\": \"41\",\n",
      "    \"lost_or_stolen_phone\": \"42\",\n",
      "    \"order_physical_card\": \"43\",\n",
      "    \"passcode_forgotten\": \"44\",\n",
      "    \"pending_card_payment\": \"45\",\n",
      "    \"pending_cash_withdrawal\": \"46\",\n",
      "    \"pending_top_up\": \"47\",\n",
      "    \"pending_transfer\": \"48\",\n",
      "    \"pin_blocked\": \"49\",\n",
      "    \"receiving_money\": \"50\",\n",
      "    \"request_refund\": \"52\",\n",
      "    \"reverted_card_payment?\": \"53\",\n",
      "    \"supported_cards_and_currencies\": \"54\",\n",
      "    \"terminate_account\": \"55\",\n",
      "    \"top_up_by_bank_transfer_charge\": \"56\",\n",
      "    \"top_up_by_card_charge\": \"57\",\n",
      "    \"top_up_by_cash_or_cheque\": \"58\",\n",
      "    \"top_up_failed\": \"59\",\n",
      "    \"top_up_limits\": \"60\",\n",
      "    \"top_up_reverted\": \"61\",\n",
      "    \"topping_up_by_card\": \"62\",\n",
      "    \"transaction_charged_twice\": \"63\",\n",
      "    \"transfer_fee_charged\": \"64\",\n",
      "    \"transfer_into_account\": \"65\",\n",
      "    \"transfer_not_received_by_recipient\": \"66\",\n",
      "    \"transfer_timing\": \"67\",\n",
      "    \"unable_to_verify_identity\": \"68\",\n",
      "    \"verify_my_identity\": \"69\",\n",
      "    \"verify_source_of_funds\": \"70\",\n",
      "    \"verify_top_up\": \"71\",\n",
      "    \"virtual_card_not_working\": \"72\",\n",
      "    \"visa_or_mastercard\": \"73\",\n",
      "    \"why_verify_identity\": \"74\",\n",
      "    \"wrong_amount_of_cash_received\": \"75\",\n",
      "    \"wrong_exchange_rate_for_cash_withdrawal\": \"76\"\n",
      "  },\n",
      "  \"max_position_embeddings\": 512,\n",
      "  \"model_type\": \"distilbert\",\n",
      "  \"n_heads\": 12,\n",
      "  \"n_layers\": 6,\n",
      "  \"pad_token_id\": 0,\n",
      "  \"qa_dropout\": 0.1,\n",
      "  \"seq_classif_dropout\": 0.2,\n",
      "  \"sinusoidal_pos_embds\": false,\n",
      "  \"tie_weights_\": true,\n",
      "  \"transformers_version\": \"4.22.1\",\n",
      "  \"vocab_size\": 30522\n",
      "}\n",
      "\n",
      "loading weights file pytorch_model.bin from cache at C:\\Users\\Antoine/.cache\\huggingface\\hub\\models--distilbert-base-uncased\\snapshots\\6cdc0aad91f5ae2e6712e91bc7b65d1cf5c05411\\pytorch_model.bin\n",
      "Some weights of the model checkpoint at distilbert-base-uncased were not used when initializing DistilBertForSequenceClassification: ['vocab_transform.weight', 'vocab_transform.bias', 'vocab_layer_norm.bias', 'vocab_projector.weight', 'vocab_projector.bias', 'vocab_layer_norm.weight']\n",
      "- This IS expected if you are initializing DistilBertForSequenceClassification from the checkpoint of a model trained on another task or with another architecture (e.g. initializing a BertForSequenceClassification model from a BertForPreTraining model).\n",
      "- This IS NOT expected if you are initializing DistilBertForSequenceClassification from the checkpoint of a model that you expect to be exactly identical (initializing a BertForSequenceClassification model from a BertForSequenceClassification model).\n",
      "Some weights of DistilBertForSequenceClassification were not initialized from the model checkpoint at distilbert-base-uncased and are newly initialized: ['classifier.bias', 'classifier.weight', 'pre_classifier.weight', 'pre_classifier.bias']\n",
      "You should probably TRAIN this model on a down-stream task to be able to use it for predictions and inference.\n"
     ]
    }
   ],
   "source": [
    "from transformers import AutoModelForSequenceClassification\n",
    "\n",
    "# Model id to load the tokenizer\n",
    "\n",
    "# Prepare model labels - useful for inference\n",
    "labels = tokenizer_dataset[\"train\"].features[\"labels\"].names\n",
    "num_labels = len(labels)\n",
    "label2id, id2label = dict(), dict()\n",
    "for i, label in enumerate(labels):\n",
    "    label2id[label] = str(i)\n",
    "    id2label[str(i)] = label\n",
    "\n",
    "# Download the model from huggingface.co/models\n",
    "model = AutoModelForSequenceClassification.from_pretrained(\n",
    "    'distilbert-base-uncased', num_labels=num_labels, label2id=label2id, id2label=id2label\n",
    ")"
   ]
  },
  {
   "cell_type": "code",
   "execution_count": 84,
   "metadata": {},
   "outputs": [
    {
     "name": "stderr",
     "output_type": "stream",
     "text": [
      "Downloading builder script: 100%|██████████| 6.77k/6.77k [00:00<?, ?B/s]\n"
     ]
    }
   ],
   "source": [
    "import evaluate\n",
    "import numpy as np\n",
    "\n",
    "# Metric Id\n",
    "metric = evaluate.load(\"f1\")\n",
    "\n",
    "# Metric helper method\n",
    "def compute_metrics(eval_pred):\n",
    "    predictions, labels = eval_pred\n",
    "    predictions = np.argmax(predictions, axis=1)\n",
    "    return metric.compute(predictions=predictions, references=labels, average=\"weighted\")"
   ]
  },
  {
   "cell_type": "code",
   "execution_count": 83,
   "metadata": {},
   "outputs": [],
   "source": [
    "from huggingface_hub import HfFolder\n",
    "from transformers import Trainer, TrainingArguments"
   ]
  },
  {
   "cell_type": "code",
   "execution_count": 120,
   "metadata": {},
   "outputs": [
    {
     "name": "stderr",
     "output_type": "stream",
     "text": [
      "PyTorch: setting up devices\n"
     ]
    }
   ],
   "source": [
    "repository_id='out/'\n",
    "\n",
    "\n",
    "training_args = TrainingArguments(\n",
    "    output_dir=repository_id,\n",
    "    per_device_train_batch_size=16,\n",
    "    per_device_eval_batch_size=8,\n",
    "    learning_rate=5e-5,\n",
    "\t\tnum_train_epochs=3,\n",
    "\t\t# PyTorch 2.0 specifics \n",
    "    # bf16=True, # bfloat16 training \n",
    "\t\t# torch_compile=True, # optimizations\n",
    "    optim=\"adamw_torch\", # improved optimizer \n",
    "    # logging & evaluation strategies\n",
    "    logging_dir=f\"{repository_id}/logs\",\n",
    "    logging_strategy=\"steps\",\n",
    "    logging_steps=200,\n",
    "    evaluation_strategy=\"epoch\",\n",
    "    save_strategy=\"epoch\",\n",
    "    save_total_limit=2,\n",
    "    load_best_model_at_end=True,\n",
    "    metric_for_best_model=\"f1\",\n",
    "    # push to hub parameters\n",
    "    report_to=\"tensorboard\",\n",
    "    hub_strategy=\"every_save\",\n",
    "    hub_model_id=repository_id,\n",
    "    hub_token=HfFolder.get_token(),\n",
    "\n",
    ")\n",
    "\n",
    "# Create a Trainer instance\n",
    "trainer = Trainer(\n",
    "    model=model,\n",
    "    args=training_args,\n",
    "    train_dataset=tokenizer_dataset[\"train\"],\n",
    "    eval_dataset=tokenizer_dataset[\"test\"],\n",
    "    compute_metrics=compute_metrics,\n",
    ")"
   ]
  },
  {
   "cell_type": "code",
   "execution_count": 121,
   "metadata": {},
   "outputs": [
    {
     "name": "stderr",
     "output_type": "stream",
     "text": [
      "***** Running training *****\n",
      "  Num examples = 10003\n",
      "  Num Epochs = 3\n",
      "  Instantaneous batch size per device = 16\n",
      "  Total train batch size (w. parallel, distributed & accumulation) = 16\n",
      "  Gradient Accumulation steps = 1\n",
      "  Total optimization steps = 1878\n",
      "  0%|          | 0/1878 [00:00<?, ?it/s]"
     ]
    },
    {
     "ename": "",
     "evalue": "",
     "output_type": "error",
     "traceback": [
      "\u001b[1;31mThe Kernel crashed while executing code in the the current cell or a previous cell. Please review the code in the cell(s) to identify a possible cause of the failure. Click <a href='https://aka.ms/vscodeJupyterKernelCrash'>here</a> for more info. View Jupyter <a href='command:jupyter.viewOutput'>log</a> for further details."
     ]
    }
   ],
   "source": [
    "trainer.train()"
   ]
  },
  {
   "cell_type": "code",
   "execution_count": null,
   "metadata": {},
   "outputs": [],
   "source": []
  }
 ],
 "metadata": {
  "kernelspec": {
   "display_name": "Python 3",
   "language": "python",
   "name": "python3"
  },
  "language_info": {
   "codemirror_mode": {
    "name": "ipython",
    "version": 3
   },
   "file_extension": ".py",
   "mimetype": "text/x-python",
   "name": "python",
   "nbconvert_exporter": "python",
   "pygments_lexer": "ipython3",
   "version": "3.9.12"
  }
 },
 "nbformat": 4,
 "nbformat_minor": 2
}
